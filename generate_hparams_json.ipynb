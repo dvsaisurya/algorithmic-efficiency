{
 "cells": [
  {
   "cell_type": "code",
   "execution_count": 1,
   "metadata": {},
   "outputs": [
    {
     "data": {
      "text/plain": [
       "[Hyperparameters(learning_rate=0.0005453218744559951, one_minus_beta1=0.14834633819289833, beta2=0.999, warmup_factor=0.05, weight_decay=0.046936010142263264, label_smoothing=0.1, dropout_rate=0.1, beta3=0.9),\n",
       " Hyperparameters(learning_rate=0.0004248714948678401, one_minus_beta1=0.010501848206762074, beta2=0.999, warmup_factor=0.05, weight_decay=0.012808698294169868, label_smoothing=0.2, dropout_rate=0.1, beta3=0.999),\n",
       " Hyperparameters(learning_rate=0.0008596367637024999, one_minus_beta1=0.04579844581473366, beta2=0.999, warmup_factor=0.05, weight_decay=0.018361522226203617, label_smoothing=0.1, dropout_rate=0.1, beta3=0.99),\n",
       " Hyperparameters(learning_rate=0.0018087375482285267, one_minus_beta1=0.05499625899680778, beta2=0.999, warmup_factor=0.05, weight_decay=0.07628061234772303, label_smoothing=0.1, dropout_rate=0.1, beta3=0.999),\n",
       " Hyperparameters(learning_rate=0.00015809826184652224, one_minus_beta1=0.03770515075933866, beta2=0.999, warmup_factor=0.05, weight_decay=0.03203490726409782, label_smoothing=0.1, dropout_rate=0.1, beta3=0.99),\n",
       " Hyperparameters(learning_rate=0.008086256236416118, one_minus_beta1=0.07532576268436117, beta2=0.999, warmup_factor=0.05, weight_decay=0.007222390217571119, label_smoothing=0.1, dropout_rate=0.1, beta3=0.9),\n",
       " Hyperparameters(learning_rate=0.005882969486259944, one_minus_beta1=0.010032175816324665, beta2=0.999, warmup_factor=0.05, weight_decay=0.07183678533621907, label_smoothing=0.1, dropout_rate=0.1, beta3=0.99),\n",
       " Hyperparameters(learning_rate=0.00036506503629047917, one_minus_beta1=0.014928665599993736, beta2=0.999, warmup_factor=0.05, weight_decay=0.030004502983107955, label_smoothing=0.1, dropout_rate=0.1, beta3=0.999),\n",
       " Hyperparameters(learning_rate=0.00037228182556653996, one_minus_beta1=0.11435700729162357, beta2=0.999, warmup_factor=0.05, weight_decay=0.08188813071872622, label_smoothing=0.2, dropout_rate=0.1, beta3=0.999),\n",
       " Hyperparameters(learning_rate=0.006813316302498375, one_minus_beta1=0.12821513280459113, beta2=0.999, warmup_factor=0.05, weight_decay=0.16109064043477106, label_smoothing=0.1, dropout_rate=0.1, beta3=0.9),\n",
       " Hyperparameters(learning_rate=0.0013030883258582763, one_minus_beta1=0.016594789858365613, beta2=0.999, warmup_factor=0.05, weight_decay=0.6619669248437084, label_smoothing=0.2, dropout_rate=0.1, beta3=0.999),\n",
       " Hyperparameters(learning_rate=0.0012778275873263768, one_minus_beta1=0.011808212347612743, beta2=0.999, warmup_factor=0.05, weight_decay=0.029517337342226866, label_smoothing=0.2, dropout_rate=0.1, beta3=0.999),\n",
       " Hyperparameters(learning_rate=0.0013159053452895648, one_minus_beta1=0.05790120150623952, beta2=0.999, warmup_factor=0.05, weight_decay=0.19498969370313673, label_smoothing=0.1, dropout_rate=0.1, beta3=0.9),\n",
       " Hyperparameters(learning_rate=0.004932672130858443, one_minus_beta1=0.023861330771117864, beta2=0.999, warmup_factor=0.05, weight_decay=0.6802758515075302, label_smoothing=0.2, dropout_rate=0.1, beta3=0.999),\n",
       " Hyperparameters(learning_rate=0.0003947995209748618, one_minus_beta1=0.0374901222281053, beta2=0.999, warmup_factor=0.05, weight_decay=0.07262504178435081, label_smoothing=0.1, dropout_rate=0.1, beta3=0.999)]"
      ]
     },
     "execution_count": 1,
     "metadata": {},
     "output_type": "execute_result"
    }
   ],
   "source": [
    "from algorithmic_efficiency import halton\n",
    "import json\n",
    "\n",
    "tuning_search_space = \"tuning_search_space_caspr_adaptive_full_matrix.json\"\n",
    "num_tuning_trials = 15\n",
    "with open(tuning_search_space, 'r', encoding='UTF-8') as search_space_file:\n",
    "      tuning_search_space = halton.generate_search(\n",
    "          json.load(search_space_file), num_tuning_trials)\n",
    "      \n",
    "tuning_search_space\n"
   ]
  },
  {
   "cell_type": "code",
   "execution_count": 14,
   "metadata": {},
   "outputs": [
    {
     "name": "stdout",
     "output_type": "stream",
     "text": [
      "divided_hparams  [5, 5, 5]\n"
     ]
    }
   ],
   "source": [
    "import math\n",
    "# def sample_hyperparameters():\n",
    "#     sampled_params = {}\n",
    "#     for param, values in search_space.items():\n",
    "#         sampled_params[param] = np.random.choice(values)\n",
    "#     return sampled_params\n",
    "\n",
    "def divide_hparams(hparams_list, hparams_per_json_list):\n",
    "    divided_hparams = []  # This will store the final divided hyperparameters\n",
    "    start_index = 0  # Start index for slicing the hparams_list\n",
    "    \n",
    "    for count in hparams_per_json_list:\n",
    "        # Slice the hparams_list from the current start index by the count specified in hparams_per_json_list\n",
    "        end_index = start_index + count\n",
    "        slice_hparams = hparams_list[start_index:end_index]\n",
    "        \n",
    "        # Add the sliced hyperparameters to the divided_hparams list\n",
    "        divided_hparams.append(slice_hparams)\n",
    "        \n",
    "        # Update the start_index for the next slice\n",
    "        start_index = end_index\n",
    "    \n",
    "    return divided_hparams\n",
    "\n",
    "\n",
    "def generate_json_files(num_tpus,tuning_search_space):\n",
    "    num_hparams_per_json = len(tuning_search_space)//num_tpus\n",
    "    hparams_per_json_list = [num_hparams_per_json]*num_tpus\n",
    "    if len(tuning_search_space)%num_tpus != 0:\n",
    "        hparams_per_json_list   += [len(tuning_search_space)%num_tpus ]\n",
    "    tuning_search_space = [ hparam._asdict() for hparam in tuning_search_space]\n",
    "    divided_hparams = divide_hparams(tuning_search_space,hparams_per_json_list)\n",
    "    print(\"divided_hparams \", [len(hparams) for hparams in divided_hparams])\n",
    "    for i in range(num_tpus):\n",
    "        hparams_in_json = divided_hparams[i]\n",
    "        file_name = f\"tuning_search_space_caspr_adaptive_full_matrix_ogbg_{i}.json\"\n",
    "        with open(file_name, 'w') as f:\n",
    "            json.dump(hparams_in_json, f, indent=4)\n",
    "\n",
    "\n",
    "# Adjust the `num_files` according to the number of TPUs you want to use\n",
    "num_tpus = 3  # Example, adjust as necessary\n",
    "generate_json_files(num_tpus,tuning_search_space)\n"
   ]
  }
 ],
 "metadata": {
  "kernelspec": {
   "display_name": "Python 3",
   "language": "python",
   "name": "python3"
  },
  "language_info": {
   "codemirror_mode": {
    "name": "ipython",
    "version": 3
   },
   "file_extension": ".py",
   "mimetype": "text/x-python",
   "name": "python",
   "nbconvert_exporter": "python",
   "pygments_lexer": "ipython3",
   "version": "3.10.12"
  }
 },
 "nbformat": 4,
 "nbformat_minor": 2
}
